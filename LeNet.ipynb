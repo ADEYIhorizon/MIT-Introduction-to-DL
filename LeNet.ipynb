{
 "cells": [
  {
   "cell_type": "code",
   "execution_count": 1,
   "metadata": {},
   "outputs": [],
   "source": [
    "import tensorflow as tf\n",
    "from tensorflow.keras import datasets, layers, models, optimizers"
   ]
  },
  {
   "attachments": {},
   "cell_type": "markdown",
   "metadata": {},
   "source": [
    "Network and Training"
   ]
  },
  {
   "cell_type": "code",
   "execution_count": 2,
   "metadata": {},
   "outputs": [],
   "source": [
    "# Network and Training\n",
    "EPOCHS = 100\n",
    "BATCH_SIZE = 128\n",
    "VERBOSE= 1\n",
    "OPTIMIZER = tf.keras.optimizers.Adam()\n",
    "VALIDATION_SPLIT = 0.90\n",
    "\n",
    "\n",
    "IMG_ROWS, IMG_COLS = 28, 28  #input image dimensions\n",
    "INPUT_SHAPE = (IMG_ROWS, IMG_COLS, 1)\n",
    "NB_CLASSES = 10"
   ]
  },
  {
   "attachments": {},
   "cell_type": "markdown",
   "metadata": {},
   "source": [
    "Define the LeNet network"
   ]
  },
  {
   "cell_type": "code",
   "execution_count": 3,
   "metadata": {},
   "outputs": [],
   "source": [
    "class LeNet:\n",
    "    def build(input_shape, classes):\n",
    "        model = models.Sequential()\n",
    "\n",
    "        #CONV --> RELU --> POOL\n",
    "        model.add(layers.Convolution2D(20, (5,5), activation='relu', input_shape=input_shape))\n",
    "        model.add(layers.MaxPooling2D(pool_size=(2,2), strides=(2,2))) \n",
    "\n",
    "        #CONV --> RELU --> POOL\n",
    "        model.add(layers.Convolution2D(50, (5,5), activation='relu'))\n",
    "        model.add(layers.MaxPooling2D(pool_size=(2,2), strides=(2,2))) \n",
    "\n",
    "        # Flatten => RELU layers\n",
    "        model.add(layers.Flatten())\n",
    "        model.add(layers.Dense(500, activation='relu'))\n",
    "        # a softmax classifier\n",
    "        model.add(layers.Dense(classes, activation=\"softmax\"))\n",
    "        return model"
   ]
  },
  {
   "attachments": {},
   "cell_type": "markdown",
   "metadata": {},
   "source": [
    "LeNet Architectue"
   ]
  },
  {
   "cell_type": "code",
   "execution_count": 4,
   "metadata": {},
   "outputs": [
    {
     "data": {
      "text/html": [
       "<img src=\"LeNet.png\"/>"
      ],
      "text/plain": [
       "<IPython.core.display.Image object>"
      ]
     },
     "execution_count": 4,
     "metadata": {},
     "output_type": "execute_result"
    }
   ],
   "source": [
    "# import image module\n",
    "from IPython.display import Image\n",
    "  \n",
    "# get the image\n",
    "Image(url=\"LeNet.png\")\n"
   ]
  },
  {
   "cell_type": "code",
   "execution_count": 5,
   "metadata": {},
   "outputs": [],
   "source": [
    "mnist = tf.keras.datasets.mnist\n",
    "(X_train, Y_train,), (X_test, Y_test) = mnist.load_data()"
   ]
  },
  {
   "cell_type": "code",
   "execution_count": 6,
   "metadata": {},
   "outputs": [],
   "source": [
    "# reshape\n",
    "X_train = X_train.reshape((60000, 28, 28, 1))\n",
    "X_test = X_test.reshape((10000, 28, 28, 1))\n",
    "\n",
    "# normalize\n",
    "X_train, X_test = X_train / 255.0, X_test / 255.0\n",
    "\n",
    "# Type cast\n",
    "X_train = X_train.astype('float32')\n",
    "X_test = X_test.astype('float32')"
   ]
  },
  {
   "cell_type": "code",
   "execution_count": 7,
   "metadata": {},
   "outputs": [],
   "source": [
    "# convert class vectors to binary class matrices\n",
    "Y_train = tf.keras.utils.to_categorical(Y_train, NB_CLASSES)\n",
    "Y_test = tf.keras.utils.to_categorical(Y_test, NB_CLASSES)"
   ]
  },
  {
   "cell_type": "code",
   "execution_count": 8,
   "metadata": {},
   "outputs": [
    {
     "name": "stdout",
     "output_type": "stream",
     "text": [
      "Model: \"sequential\"\n",
      "_________________________________________________________________\n",
      " Layer (type)                Output Shape              Param #   \n",
      "=================================================================\n",
      " conv2d (Conv2D)             (None, 24, 24, 20)        520       \n",
      "                                                                 \n",
      " max_pooling2d (MaxPooling2D  (None, 12, 12, 20)       0         \n",
      " )                                                               \n",
      "                                                                 \n",
      " conv2d_1 (Conv2D)           (None, 8, 8, 50)          25050     \n",
      "                                                                 \n",
      " max_pooling2d_1 (MaxPooling  (None, 4, 4, 50)         0         \n",
      " 2D)                                                             \n",
      "                                                                 \n",
      " flatten (Flatten)           (None, 800)               0         \n",
      "                                                                 \n",
      " dense (Dense)               (None, 500)               400500    \n",
      "                                                                 \n",
      " dense_1 (Dense)             (None, 10)                5010      \n",
      "                                                                 \n",
      "=================================================================\n",
      "Total params: 431,080\n",
      "Trainable params: 431,080\n",
      "Non-trainable params: 0\n",
      "_________________________________________________________________\n"
     ]
    }
   ],
   "source": [
    "# initialize the optimizer and model\n",
    "model = LeNet.build(input_shape=INPUT_SHAPE, classes=NB_CLASSES)\n",
    "model.compile(loss=\"categorical_crossentropy\", optimizer=OPTIMIZER,\n",
    "metrics=[\"accuracy\"])\n",
    "model.summary()"
   ]
  },
  {
   "cell_type": "code",
   "execution_count": 9,
   "metadata": {},
   "outputs": [],
   "source": [
    "# use TensorBoard, princess Aurora!\n",
    "callbacks = [\n",
    "    # Write TensorBoard logs to './logs' directory\n",
    "    tf.keras.callbacks.TensorBoard(log_dir='./logs')\n",
    "    ]"
   ]
  },
  {
   "cell_type": "code",
   "execution_count": 10,
   "metadata": {},
   "outputs": [
    {
     "name": "stdout",
     "output_type": "stream",
     "text": [
      "Epoch 1/100\n",
      "47/47 [==============================] - 5s 36ms/step - loss: 0.8050 - accuracy: 0.7691 - val_loss: 0.3500 - val_accuracy: 0.8870\n",
      "Epoch 2/100\n",
      "47/47 [==============================] - 1s 27ms/step - loss: 0.2268 - accuracy: 0.9327 - val_loss: 0.1822 - val_accuracy: 0.9444\n",
      "Epoch 3/100\n",
      "47/47 [==============================] - 1s 28ms/step - loss: 0.1456 - accuracy: 0.9570 - val_loss: 0.1614 - val_accuracy: 0.9488\n",
      "Epoch 4/100\n",
      "47/47 [==============================] - 1s 27ms/step - loss: 0.0991 - accuracy: 0.9702 - val_loss: 0.1193 - val_accuracy: 0.9624\n",
      "Epoch 5/100\n",
      "47/47 [==============================] - 1s 27ms/step - loss: 0.0736 - accuracy: 0.9792 - val_loss: 0.1207 - val_accuracy: 0.9624\n",
      "Epoch 6/100\n",
      "47/47 [==============================] - 1s 27ms/step - loss: 0.0615 - accuracy: 0.9813 - val_loss: 0.1223 - val_accuracy: 0.9617\n",
      "Epoch 7/100\n",
      "47/47 [==============================] - 1s 28ms/step - loss: 0.0428 - accuracy: 0.9890 - val_loss: 0.1029 - val_accuracy: 0.9686\n",
      "Epoch 8/100\n",
      "47/47 [==============================] - 1s 27ms/step - loss: 0.0341 - accuracy: 0.9888 - val_loss: 0.0948 - val_accuracy: 0.9710\n",
      "Epoch 9/100\n",
      "47/47 [==============================] - 1s 27ms/step - loss: 0.0235 - accuracy: 0.9940 - val_loss: 0.0924 - val_accuracy: 0.9726\n",
      "Epoch 10/100\n",
      "47/47 [==============================] - 1s 27ms/step - loss: 0.0176 - accuracy: 0.9957 - val_loss: 0.0930 - val_accuracy: 0.9730\n",
      "Epoch 11/100\n",
      "47/47 [==============================] - 1s 28ms/step - loss: 0.0156 - accuracy: 0.9955 - val_loss: 0.0987 - val_accuracy: 0.9711\n",
      "Epoch 12/100\n",
      "47/47 [==============================] - 1s 27ms/step - loss: 0.0109 - accuracy: 0.9973 - val_loss: 0.0990 - val_accuracy: 0.9736\n",
      "Epoch 13/100\n",
      "47/47 [==============================] - 1s 28ms/step - loss: 0.0109 - accuracy: 0.9970 - val_loss: 0.0928 - val_accuracy: 0.9750\n",
      "Epoch 14/100\n",
      "47/47 [==============================] - 1s 27ms/step - loss: 0.0126 - accuracy: 0.9965 - val_loss: 0.0978 - val_accuracy: 0.9735\n",
      "Epoch 15/100\n",
      "47/47 [==============================] - 1s 28ms/step - loss: 0.0072 - accuracy: 0.9985 - val_loss: 0.1001 - val_accuracy: 0.9739\n",
      "Epoch 16/100\n",
      "47/47 [==============================] - 1s 27ms/step - loss: 0.0028 - accuracy: 0.9998 - val_loss: 0.1008 - val_accuracy: 0.9751\n",
      "Epoch 17/100\n",
      "47/47 [==============================] - 1s 27ms/step - loss: 0.0014 - accuracy: 1.0000 - val_loss: 0.0968 - val_accuracy: 0.9764\n",
      "Epoch 18/100\n",
      "47/47 [==============================] - 1s 28ms/step - loss: 8.8806e-04 - accuracy: 1.0000 - val_loss: 0.1012 - val_accuracy: 0.9760\n",
      "Epoch 19/100\n",
      "47/47 [==============================] - 1s 29ms/step - loss: 6.7979e-04 - accuracy: 1.0000 - val_loss: 0.1026 - val_accuracy: 0.9758\n",
      "Epoch 20/100\n",
      "47/47 [==============================] - 1s 27ms/step - loss: 5.2155e-04 - accuracy: 1.0000 - val_loss: 0.1027 - val_accuracy: 0.9760\n",
      "Epoch 21/100\n",
      "47/47 [==============================] - 1s 27ms/step - loss: 4.4321e-04 - accuracy: 1.0000 - val_loss: 0.1053 - val_accuracy: 0.9759\n",
      "Epoch 22/100\n",
      "47/47 [==============================] - 1s 27ms/step - loss: 3.9174e-04 - accuracy: 1.0000 - val_loss: 0.1060 - val_accuracy: 0.9760\n",
      "Epoch 23/100\n",
      "47/47 [==============================] - 1s 28ms/step - loss: 3.4047e-04 - accuracy: 1.0000 - val_loss: 0.1065 - val_accuracy: 0.9762\n",
      "Epoch 24/100\n",
      "47/47 [==============================] - 1s 27ms/step - loss: 3.3034e-04 - accuracy: 1.0000 - val_loss: 0.1085 - val_accuracy: 0.9757\n",
      "Epoch 25/100\n",
      "47/47 [==============================] - 1s 27ms/step - loss: 2.8746e-04 - accuracy: 1.0000 - val_loss: 0.1097 - val_accuracy: 0.9759\n",
      "Epoch 26/100\n",
      "47/47 [==============================] - 1s 27ms/step - loss: 2.5215e-04 - accuracy: 1.0000 - val_loss: 0.1107 - val_accuracy: 0.9759\n",
      "Epoch 27/100\n",
      "47/47 [==============================] - 1s 28ms/step - loss: 2.3246e-04 - accuracy: 1.0000 - val_loss: 0.1109 - val_accuracy: 0.9758\n",
      "Epoch 28/100\n",
      "47/47 [==============================] - 1s 27ms/step - loss: 2.1633e-04 - accuracy: 1.0000 - val_loss: 0.1130 - val_accuracy: 0.9758\n",
      "Epoch 29/100\n",
      "47/47 [==============================] - 1s 26ms/step - loss: 1.9758e-04 - accuracy: 1.0000 - val_loss: 0.1131 - val_accuracy: 0.9757\n",
      "Epoch 30/100\n",
      "47/47 [==============================] - 1s 27ms/step - loss: 1.8293e-04 - accuracy: 1.0000 - val_loss: 0.1139 - val_accuracy: 0.9758\n",
      "Epoch 31/100\n",
      "47/47 [==============================] - 1s 27ms/step - loss: 1.7245e-04 - accuracy: 1.0000 - val_loss: 0.1148 - val_accuracy: 0.9759\n",
      "Epoch 32/100\n",
      "47/47 [==============================] - 1s 27ms/step - loss: 1.6842e-04 - accuracy: 1.0000 - val_loss: 0.1158 - val_accuracy: 0.9757\n",
      "Epoch 33/100\n",
      "47/47 [==============================] - 1s 28ms/step - loss: 1.5132e-04 - accuracy: 1.0000 - val_loss: 0.1169 - val_accuracy: 0.9759\n",
      "Epoch 34/100\n",
      "47/47 [==============================] - 1s 28ms/step - loss: 1.4217e-04 - accuracy: 1.0000 - val_loss: 0.1165 - val_accuracy: 0.9759\n",
      "Epoch 35/100\n",
      "47/47 [==============================] - 1s 28ms/step - loss: 1.3337e-04 - accuracy: 1.0000 - val_loss: 0.1182 - val_accuracy: 0.9758\n",
      "Epoch 36/100\n",
      "47/47 [==============================] - 1s 28ms/step - loss: 1.2453e-04 - accuracy: 1.0000 - val_loss: 0.1185 - val_accuracy: 0.9756\n",
      "Epoch 37/100\n",
      "47/47 [==============================] - 1s 27ms/step - loss: 1.2017e-04 - accuracy: 1.0000 - val_loss: 0.1197 - val_accuracy: 0.9758\n",
      "Epoch 38/100\n",
      "47/47 [==============================] - 1s 28ms/step - loss: 1.1284e-04 - accuracy: 1.0000 - val_loss: 0.1199 - val_accuracy: 0.9759\n",
      "Epoch 39/100\n",
      "47/47 [==============================] - 1s 27ms/step - loss: 1.0334e-04 - accuracy: 1.0000 - val_loss: 0.1210 - val_accuracy: 0.9758\n",
      "Epoch 40/100\n",
      "47/47 [==============================] - 1s 27ms/step - loss: 1.0167e-04 - accuracy: 1.0000 - val_loss: 0.1226 - val_accuracy: 0.9756\n",
      "Epoch 41/100\n",
      "47/47 [==============================] - 1s 27ms/step - loss: 9.4770e-05 - accuracy: 1.0000 - val_loss: 0.1214 - val_accuracy: 0.9758\n",
      "Epoch 42/100\n",
      "47/47 [==============================] - 1s 27ms/step - loss: 8.7229e-05 - accuracy: 1.0000 - val_loss: 0.1225 - val_accuracy: 0.9757\n",
      "Epoch 43/100\n",
      "47/47 [==============================] - 1s 27ms/step - loss: 8.3593e-05 - accuracy: 1.0000 - val_loss: 0.1242 - val_accuracy: 0.9754\n",
      "Epoch 44/100\n",
      "47/47 [==============================] - 1s 27ms/step - loss: 8.2494e-05 - accuracy: 1.0000 - val_loss: 0.1235 - val_accuracy: 0.9758\n",
      "Epoch 45/100\n",
      "47/47 [==============================] - 1s 26ms/step - loss: 7.5363e-05 - accuracy: 1.0000 - val_loss: 0.1244 - val_accuracy: 0.9756\n",
      "Epoch 46/100\n",
      "47/47 [==============================] - 1s 27ms/step - loss: 7.1972e-05 - accuracy: 1.0000 - val_loss: 0.1248 - val_accuracy: 0.9758\n",
      "Epoch 47/100\n",
      "47/47 [==============================] - 1s 27ms/step - loss: 6.8082e-05 - accuracy: 1.0000 - val_loss: 0.1262 - val_accuracy: 0.9755\n",
      "Epoch 48/100\n",
      "47/47 [==============================] - 1s 27ms/step - loss: 6.6434e-05 - accuracy: 1.0000 - val_loss: 0.1264 - val_accuracy: 0.9756\n",
      "Epoch 49/100\n",
      "47/47 [==============================] - 1s 27ms/step - loss: 6.1650e-05 - accuracy: 1.0000 - val_loss: 0.1267 - val_accuracy: 0.9756\n",
      "Epoch 50/100\n",
      "47/47 [==============================] - 1s 27ms/step - loss: 5.9886e-05 - accuracy: 1.0000 - val_loss: 0.1269 - val_accuracy: 0.9757\n",
      "Epoch 51/100\n",
      "47/47 [==============================] - 1s 27ms/step - loss: 5.6546e-05 - accuracy: 1.0000 - val_loss: 0.1280 - val_accuracy: 0.9756\n",
      "Epoch 52/100\n",
      "47/47 [==============================] - 1s 26ms/step - loss: 5.3842e-05 - accuracy: 1.0000 - val_loss: 0.1280 - val_accuracy: 0.9756\n",
      "Epoch 53/100\n",
      "47/47 [==============================] - 1s 27ms/step - loss: 5.1984e-05 - accuracy: 1.0000 - val_loss: 0.1286 - val_accuracy: 0.9756\n",
      "Epoch 54/100\n",
      "47/47 [==============================] - 1s 27ms/step - loss: 5.0064e-05 - accuracy: 1.0000 - val_loss: 0.1292 - val_accuracy: 0.9755\n",
      "Epoch 55/100\n",
      "47/47 [==============================] - 1s 27ms/step - loss: 4.6665e-05 - accuracy: 1.0000 - val_loss: 0.1298 - val_accuracy: 0.9756\n",
      "Epoch 56/100\n",
      "47/47 [==============================] - 1s 27ms/step - loss: 4.6720e-05 - accuracy: 1.0000 - val_loss: 0.1306 - val_accuracy: 0.9756\n",
      "Epoch 57/100\n",
      "47/47 [==============================] - 1s 27ms/step - loss: 4.3260e-05 - accuracy: 1.0000 - val_loss: 0.1310 - val_accuracy: 0.9755\n",
      "Epoch 58/100\n",
      "47/47 [==============================] - 1s 27ms/step - loss: 4.1573e-05 - accuracy: 1.0000 - val_loss: 0.1315 - val_accuracy: 0.9755\n",
      "Epoch 59/100\n",
      "47/47 [==============================] - 1s 27ms/step - loss: 3.9638e-05 - accuracy: 1.0000 - val_loss: 0.1317 - val_accuracy: 0.9755\n",
      "Epoch 60/100\n",
      "47/47 [==============================] - 1s 27ms/step - loss: 3.8109e-05 - accuracy: 1.0000 - val_loss: 0.1323 - val_accuracy: 0.9756\n",
      "Epoch 61/100\n",
      "47/47 [==============================] - 1s 27ms/step - loss: 3.6680e-05 - accuracy: 1.0000 - val_loss: 0.1325 - val_accuracy: 0.9756\n",
      "Epoch 62/100\n",
      "47/47 [==============================] - 1s 27ms/step - loss: 3.5351e-05 - accuracy: 1.0000 - val_loss: 0.1334 - val_accuracy: 0.9755\n",
      "Epoch 63/100\n",
      "47/47 [==============================] - 1s 27ms/step - loss: 3.3675e-05 - accuracy: 1.0000 - val_loss: 0.1336 - val_accuracy: 0.9755\n",
      "Epoch 64/100\n",
      "47/47 [==============================] - 1s 27ms/step - loss: 3.2678e-05 - accuracy: 1.0000 - val_loss: 0.1343 - val_accuracy: 0.9754\n",
      "Epoch 65/100\n",
      "47/47 [==============================] - 1s 28ms/step - loss: 3.1303e-05 - accuracy: 1.0000 - val_loss: 0.1352 - val_accuracy: 0.9754\n",
      "Epoch 66/100\n",
      "47/47 [==============================] - 1s 28ms/step - loss: 2.9796e-05 - accuracy: 1.0000 - val_loss: 0.1353 - val_accuracy: 0.9756\n",
      "Epoch 67/100\n",
      "47/47 [==============================] - 1s 29ms/step - loss: 2.8723e-05 - accuracy: 1.0000 - val_loss: 0.1357 - val_accuracy: 0.9755\n",
      "Epoch 68/100\n",
      "47/47 [==============================] - 1s 27ms/step - loss: 2.8265e-05 - accuracy: 1.0000 - val_loss: 0.1360 - val_accuracy: 0.9755\n",
      "Epoch 69/100\n",
      "47/47 [==============================] - 1s 27ms/step - loss: 2.6900e-05 - accuracy: 1.0000 - val_loss: 0.1363 - val_accuracy: 0.9756\n",
      "Epoch 70/100\n",
      "47/47 [==============================] - 1s 28ms/step - loss: 2.5861e-05 - accuracy: 1.0000 - val_loss: 0.1368 - val_accuracy: 0.9756\n",
      "Epoch 71/100\n",
      "47/47 [==============================] - 1s 27ms/step - loss: 2.4695e-05 - accuracy: 1.0000 - val_loss: 0.1377 - val_accuracy: 0.9754\n",
      "Epoch 72/100\n",
      "47/47 [==============================] - 1s 27ms/step - loss: 2.4084e-05 - accuracy: 1.0000 - val_loss: 0.1377 - val_accuracy: 0.9754\n",
      "Epoch 73/100\n",
      "47/47 [==============================] - 1s 27ms/step - loss: 2.3037e-05 - accuracy: 1.0000 - val_loss: 0.1384 - val_accuracy: 0.9755\n",
      "Epoch 74/100\n",
      "47/47 [==============================] - 1s 27ms/step - loss: 2.2244e-05 - accuracy: 1.0000 - val_loss: 0.1389 - val_accuracy: 0.9754\n",
      "Epoch 75/100\n",
      "47/47 [==============================] - 1s 27ms/step - loss: 2.1309e-05 - accuracy: 1.0000 - val_loss: 0.1394 - val_accuracy: 0.9755\n",
      "Epoch 76/100\n",
      "47/47 [==============================] - 1s 27ms/step - loss: 2.0715e-05 - accuracy: 1.0000 - val_loss: 0.1403 - val_accuracy: 0.9754\n",
      "Epoch 77/100\n",
      "47/47 [==============================] - 1s 26ms/step - loss: 1.9931e-05 - accuracy: 1.0000 - val_loss: 0.1400 - val_accuracy: 0.9754\n",
      "Epoch 78/100\n",
      "47/47 [==============================] - 1s 27ms/step - loss: 1.9350e-05 - accuracy: 1.0000 - val_loss: 0.1407 - val_accuracy: 0.9754\n",
      "Epoch 79/100\n",
      "47/47 [==============================] - 1s 26ms/step - loss: 1.8628e-05 - accuracy: 1.0000 - val_loss: 0.1411 - val_accuracy: 0.9754\n",
      "Epoch 80/100\n",
      "47/47 [==============================] - 1s 27ms/step - loss: 1.7874e-05 - accuracy: 1.0000 - val_loss: 0.1417 - val_accuracy: 0.9755\n",
      "Epoch 81/100\n",
      "47/47 [==============================] - 1s 27ms/step - loss: 1.7275e-05 - accuracy: 1.0000 - val_loss: 0.1416 - val_accuracy: 0.9755\n",
      "Epoch 82/100\n",
      "47/47 [==============================] - 1s 26ms/step - loss: 1.6789e-05 - accuracy: 1.0000 - val_loss: 0.1421 - val_accuracy: 0.9755\n",
      "Epoch 83/100\n",
      "47/47 [==============================] - 1s 27ms/step - loss: 1.6101e-05 - accuracy: 1.0000 - val_loss: 0.1431 - val_accuracy: 0.9755\n",
      "Epoch 84/100\n",
      "47/47 [==============================] - 1s 27ms/step - loss: 1.5570e-05 - accuracy: 1.0000 - val_loss: 0.1430 - val_accuracy: 0.9754\n",
      "Epoch 85/100\n",
      "47/47 [==============================] - 1s 26ms/step - loss: 1.5157e-05 - accuracy: 1.0000 - val_loss: 0.1430 - val_accuracy: 0.9755\n",
      "Epoch 86/100\n",
      "47/47 [==============================] - 1s 27ms/step - loss: 1.4569e-05 - accuracy: 1.0000 - val_loss: 0.1438 - val_accuracy: 0.9755\n",
      "Epoch 87/100\n",
      "47/47 [==============================] - 1s 26ms/step - loss: 1.4051e-05 - accuracy: 1.0000 - val_loss: 0.1441 - val_accuracy: 0.9755\n",
      "Epoch 88/100\n",
      "47/47 [==============================] - 1s 27ms/step - loss: 1.3782e-05 - accuracy: 1.0000 - val_loss: 0.1451 - val_accuracy: 0.9755\n",
      "Epoch 89/100\n",
      "47/47 [==============================] - 1s 27ms/step - loss: 1.3391e-05 - accuracy: 1.0000 - val_loss: 0.1453 - val_accuracy: 0.9754\n",
      "Epoch 90/100\n",
      "47/47 [==============================] - 1s 26ms/step - loss: 1.2782e-05 - accuracy: 1.0000 - val_loss: 0.1456 - val_accuracy: 0.9754\n",
      "Epoch 91/100\n",
      "47/47 [==============================] - 1s 26ms/step - loss: 1.2363e-05 - accuracy: 1.0000 - val_loss: 0.1459 - val_accuracy: 0.9755\n",
      "Epoch 92/100\n",
      "47/47 [==============================] - 1s 27ms/step - loss: 1.1997e-05 - accuracy: 1.0000 - val_loss: 0.1465 - val_accuracy: 0.9754\n",
      "Epoch 93/100\n",
      "47/47 [==============================] - 1s 26ms/step - loss: 1.1569e-05 - accuracy: 1.0000 - val_loss: 0.1467 - val_accuracy: 0.9754\n",
      "Epoch 94/100\n",
      "47/47 [==============================] - 1s 26ms/step - loss: 1.1145e-05 - accuracy: 1.0000 - val_loss: 0.1474 - val_accuracy: 0.9754\n",
      "Epoch 95/100\n",
      "47/47 [==============================] - 1s 27ms/step - loss: 1.0829e-05 - accuracy: 1.0000 - val_loss: 0.1474 - val_accuracy: 0.9754\n",
      "Epoch 96/100\n",
      "47/47 [==============================] - 1s 26ms/step - loss: 1.0477e-05 - accuracy: 1.0000 - val_loss: 0.1476 - val_accuracy: 0.9754\n",
      "Epoch 97/100\n",
      "47/47 [==============================] - 1s 27ms/step - loss: 1.0173e-05 - accuracy: 1.0000 - val_loss: 0.1484 - val_accuracy: 0.9753\n",
      "Epoch 98/100\n",
      "47/47 [==============================] - 1s 27ms/step - loss: 9.8107e-06 - accuracy: 1.0000 - val_loss: 0.1483 - val_accuracy: 0.9755\n",
      "Epoch 99/100\n",
      "47/47 [==============================] - 1s 27ms/step - loss: 9.5058e-06 - accuracy: 1.0000 - val_loss: 0.1492 - val_accuracy: 0.9754\n",
      "Epoch 100/100\n",
      "47/47 [==============================] - 1s 28ms/step - loss: 9.1875e-06 - accuracy: 1.0000 - val_loss: 0.1492 - val_accuracy: 0.9754\n"
     ]
    }
   ],
   "source": [
    "# fit\n",
    "history = model.fit(\n",
    "    X_train, Y_train, batch_size=BATCH_SIZE, \n",
    "    epochs=EPOCHS,verbose=VERBOSE, \n",
    "    validation_split=VALIDATION_SPLIT, callbacks=callbacks\n",
    "        )"
   ]
  },
  {
   "cell_type": "code",
   "execution_count": 11,
   "metadata": {},
   "outputs": [
    {
     "name": "stdout",
     "output_type": "stream",
     "text": [
      "313/313 [==============================] - 1s 2ms/step - loss: 0.1004 - accuracy: 0.9794\n",
      "\n",
      "Test score: 0.10044833272695541\n",
      "Test accuracy: 0.9793999791145325\n"
     ]
    }
   ],
   "source": [
    "score = model.evaluate(X_test, Y_test, verbose=VERBOSE)\n",
    "print(\"\\nTest score:\", score[0])\n",
    "print('Test accuracy:', score[1])"
   ]
  },
  {
   "cell_type": "code",
   "execution_count": null,
   "metadata": {},
   "outputs": [],
   "source": []
  }
 ],
 "metadata": {
  "kernelspec": {
   "display_name": "tf",
   "language": "python",
   "name": "python3"
  },
  "language_info": {
   "codemirror_mode": {
    "name": "ipython",
    "version": 3
   },
   "file_extension": ".py",
   "mimetype": "text/x-python",
   "name": "python",
   "nbconvert_exporter": "python",
   "pygments_lexer": "ipython3",
   "version": "3.9.13"
  },
  "orig_nbformat": 4,
  "vscode": {
   "interpreter": {
    "hash": "74cb3f0fa9d33bfcf8189af548fbb183ee6c25feac19421c4a86f6e6cba68299"
   }
  }
 },
 "nbformat": 4,
 "nbformat_minor": 2
}
