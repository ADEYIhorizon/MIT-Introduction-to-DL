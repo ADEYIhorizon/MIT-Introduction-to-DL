{
 "cells": [
  {
   "cell_type": "code",
   "execution_count": 1,
   "metadata": {},
   "outputs": [],
   "source": [
    "import tensorflow\n",
    "from tensorflow import keras\n",
    "from tensorflow.keras import layers\n",
    "from tensorflow.keras.datasets import mnist"
   ]
  },
  {
   "cell_type": "code",
   "execution_count": 2,
   "metadata": {},
   "outputs": [],
   "source": [
    "(x_train, y_train,), (x_test, y_test) = mnist.load_data()"
   ]
  },
  {
   "cell_type": "code",
   "execution_count": 3,
   "metadata": {},
   "outputs": [
    {
     "name": "stdout",
     "output_type": "stream",
     "text": [
      "(60000, 28, 28)\n",
      "(60000,)\n",
      "(10000, 28, 28)\n",
      "(10000,)\n"
     ]
    }
   ],
   "source": [
    "print(x_train.shape)\n",
    "print(y_train.shape)\n",
    "print(x_test.shape)\n",
    "print(y_test.shape)"
   ]
  },
  {
   "cell_type": "code",
   "execution_count": 4,
   "metadata": {},
   "outputs": [],
   "source": [
    "x_train = x_train.reshape(-1, 28*28).astype(\"float32\")/255.0\n",
    "x_test = x_test.reshape(-1, 28*28).astype(\"float32\")/255.0"
   ]
  },
  {
   "attachments": {},
   "cell_type": "markdown",
   "metadata": {},
   "source": [
    "First Method\n"
   ]
  },
  {
   "cell_type": "code",
   "execution_count": 5,
   "metadata": {},
   "outputs": [],
   "source": [
    "model=keras.Sequential(\n",
    "    [\n",
    "        layers.Dense(512, activation='relu'),\n",
    "        layers.Dense(256, activation='relu'),\n",
    "        layers.Dense(10, activation='softmax')\n",
    "    ]\n",
    ")"
   ]
  },
  {
   "cell_type": "code",
   "execution_count": 6,
   "metadata": {},
   "outputs": [],
   "source": [
    "model.compile(\n",
    "    loss = keras.losses.SparseCategoricalCrossentropy(),\n",
    "    optimizer = keras.optimizers.Adam(learning_rate=0.001),\n",
    "    metrics=[\"accuracy\"],\n",
    ")"
   ]
  },
  {
   "cell_type": "code",
   "execution_count": 7,
   "metadata": {},
   "outputs": [
    {
     "name": "stdout",
     "output_type": "stream",
     "text": [
      "Epoch 1/200\n",
      "469/469 - 2s - loss: 0.2222 - accuracy: 0.9350 - 2s/epoch - 5ms/step\n",
      "Epoch 2/200\n",
      "469/469 - 1s - loss: 0.0832 - accuracy: 0.9747 - 1s/epoch - 2ms/step\n",
      "Epoch 3/200\n",
      "469/469 - 1s - loss: 0.0531 - accuracy: 0.9829 - 1s/epoch - 2ms/step\n",
      "Epoch 4/200\n",
      "469/469 - 1s - loss: 0.0370 - accuracy: 0.9882 - 1s/epoch - 2ms/step\n",
      "Epoch 5/200\n",
      "469/469 - 1s - loss: 0.0274 - accuracy: 0.9912 - 1s/epoch - 2ms/step\n",
      "Epoch 6/200\n",
      "469/469 - 1s - loss: 0.0210 - accuracy: 0.9930 - 1s/epoch - 2ms/step\n",
      "Epoch 7/200\n",
      "469/469 - 1s - loss: 0.0198 - accuracy: 0.9930 - 1s/epoch - 2ms/step\n",
      "Epoch 8/200\n",
      "469/469 - 1s - loss: 0.0171 - accuracy: 0.9943 - 1s/epoch - 2ms/step\n",
      "Epoch 9/200\n",
      "469/469 - 1s - loss: 0.0141 - accuracy: 0.9952 - 1s/epoch - 2ms/step\n",
      "Epoch 10/200\n",
      "469/469 - 1s - loss: 0.0129 - accuracy: 0.9955 - 1s/epoch - 2ms/step\n",
      "Epoch 11/200\n",
      "469/469 - 1s - loss: 0.0128 - accuracy: 0.9955 - 1s/epoch - 2ms/step\n",
      "Epoch 12/200\n",
      "469/469 - 1s - loss: 0.0095 - accuracy: 0.9968 - 1s/epoch - 2ms/step\n",
      "Epoch 13/200\n",
      "469/469 - 1s - loss: 0.0100 - accuracy: 0.9964 - 1s/epoch - 2ms/step\n",
      "Epoch 14/200\n",
      "469/469 - 1s - loss: 0.0111 - accuracy: 0.9964 - 1s/epoch - 2ms/step\n",
      "Epoch 15/200\n",
      "469/469 - 1s - loss: 0.0105 - accuracy: 0.9969 - 1s/epoch - 2ms/step\n",
      "Epoch 16/200\n",
      "469/469 - 1s - loss: 0.0069 - accuracy: 0.9977 - 1s/epoch - 2ms/step\n",
      "Epoch 17/200\n",
      "469/469 - 1s - loss: 0.0044 - accuracy: 0.9985 - 1s/epoch - 2ms/step\n",
      "Epoch 18/200\n",
      "469/469 - 1s - loss: 0.0090 - accuracy: 0.9974 - 1s/epoch - 2ms/step\n",
      "Epoch 19/200\n",
      "469/469 - 1s - loss: 0.0092 - accuracy: 0.9968 - 1s/epoch - 2ms/step\n",
      "Epoch 20/200\n",
      "469/469 - 1s - loss: 0.0060 - accuracy: 0.9980 - 1s/epoch - 2ms/step\n",
      "Epoch 21/200\n",
      "469/469 - 1s - loss: 0.0074 - accuracy: 0.9974 - 1s/epoch - 2ms/step\n",
      "Epoch 22/200\n",
      "469/469 - 1s - loss: 0.0073 - accuracy: 0.9976 - 1s/epoch - 2ms/step\n",
      "Epoch 23/200\n",
      "469/469 - 1s - loss: 0.0057 - accuracy: 0.9981 - 1s/epoch - 2ms/step\n",
      "Epoch 24/200\n",
      "469/469 - 1s - loss: 0.0038 - accuracy: 0.9987 - 1s/epoch - 2ms/step\n",
      "Epoch 25/200\n",
      "469/469 - 1s - loss: 0.0094 - accuracy: 0.9971 - 1s/epoch - 2ms/step\n",
      "Epoch 26/200\n",
      "469/469 - 1s - loss: 0.0057 - accuracy: 0.9982 - 1s/epoch - 2ms/step\n",
      "Epoch 27/200\n",
      "469/469 - 1s - loss: 0.0051 - accuracy: 0.9984 - 1s/epoch - 2ms/step\n",
      "Epoch 28/200\n",
      "469/469 - 1s - loss: 0.0064 - accuracy: 0.9980 - 1s/epoch - 2ms/step\n",
      "Epoch 29/200\n",
      "469/469 - 1s - loss: 0.0023 - accuracy: 0.9994 - 1s/epoch - 2ms/step\n",
      "Epoch 30/200\n",
      "469/469 - 1s - loss: 0.0056 - accuracy: 0.9984 - 1s/epoch - 2ms/step\n",
      "Epoch 31/200\n",
      "469/469 - 1s - loss: 0.0073 - accuracy: 0.9978 - 1s/epoch - 2ms/step\n",
      "Epoch 32/200\n",
      "469/469 - 1s - loss: 0.0026 - accuracy: 0.9991 - 1s/epoch - 2ms/step\n",
      "Epoch 33/200\n",
      "469/469 - 1s - loss: 0.0044 - accuracy: 0.9987 - 1s/epoch - 2ms/step\n",
      "Epoch 34/200\n",
      "469/469 - 1s - loss: 0.0086 - accuracy: 0.9974 - 1s/epoch - 2ms/step\n",
      "Epoch 35/200\n",
      "469/469 - 1s - loss: 0.0049 - accuracy: 0.9986 - 1s/epoch - 2ms/step\n",
      "Epoch 36/200\n",
      "469/469 - 1s - loss: 0.0031 - accuracy: 0.9990 - 1s/epoch - 2ms/step\n",
      "Epoch 37/200\n",
      "469/469 - 1s - loss: 0.0029 - accuracy: 0.9992 - 1s/epoch - 2ms/step\n",
      "Epoch 38/200\n",
      "469/469 - 1s - loss: 0.0049 - accuracy: 0.9986 - 1s/epoch - 2ms/step\n",
      "Epoch 39/200\n",
      "469/469 - 1s - loss: 0.0058 - accuracy: 0.9984 - 1s/epoch - 2ms/step\n",
      "Epoch 40/200\n",
      "469/469 - 1s - loss: 0.0044 - accuracy: 0.9987 - 1s/epoch - 2ms/step\n",
      "Epoch 41/200\n",
      "469/469 - 1s - loss: 0.0048 - accuracy: 0.9986 - 1s/epoch - 2ms/step\n",
      "Epoch 42/200\n",
      "469/469 - 1s - loss: 6.7648e-04 - accuracy: 0.9998 - 1s/epoch - 2ms/step\n",
      "Epoch 43/200\n",
      "469/469 - 1s - loss: 3.4229e-05 - accuracy: 1.0000 - 1s/epoch - 2ms/step\n",
      "Epoch 44/200\n",
      "469/469 - 1s - loss: 1.1831e-05 - accuracy: 1.0000 - 1s/epoch - 2ms/step\n",
      "Epoch 45/200\n",
      "469/469 - 1s - loss: 8.7429e-06 - accuracy: 1.0000 - 1s/epoch - 2ms/step\n",
      "Epoch 46/200\n",
      "469/469 - 1s - loss: 6.8115e-06 - accuracy: 1.0000 - 1s/epoch - 2ms/step\n",
      "Epoch 47/200\n",
      "469/469 - 1s - loss: 5.4454e-06 - accuracy: 1.0000 - 1s/epoch - 2ms/step\n",
      "Epoch 48/200\n",
      "469/469 - 1s - loss: 4.3642e-06 - accuracy: 1.0000 - 1s/epoch - 2ms/step\n",
      "Epoch 49/200\n",
      "469/469 - 1s - loss: 3.5062e-06 - accuracy: 1.0000 - 1s/epoch - 2ms/step\n",
      "Epoch 50/200\n",
      "469/469 - 1s - loss: 2.8094e-06 - accuracy: 1.0000 - 1s/epoch - 2ms/step\n",
      "Epoch 51/200\n",
      "469/469 - 1s - loss: 2.2482e-06 - accuracy: 1.0000 - 1s/epoch - 2ms/step\n",
      "Epoch 52/200\n",
      "469/469 - 1s - loss: 1.7931e-06 - accuracy: 1.0000 - 1s/epoch - 2ms/step\n",
      "Epoch 53/200\n",
      "469/469 - 1s - loss: 1.4166e-06 - accuracy: 1.0000 - 1s/epoch - 2ms/step\n",
      "Epoch 54/200\n",
      "469/469 - 1s - loss: 1.1136e-06 - accuracy: 1.0000 - 1s/epoch - 2ms/step\n",
      "Epoch 55/200\n",
      "469/469 - 1s - loss: 8.7310e-07 - accuracy: 1.0000 - 1s/epoch - 2ms/step\n",
      "Epoch 56/200\n",
      "469/469 - 1s - loss: 6.7966e-07 - accuracy: 1.0000 - 1s/epoch - 2ms/step\n",
      "Epoch 57/200\n",
      "469/469 - 1s - loss: 5.2577e-07 - accuracy: 1.0000 - 1s/epoch - 2ms/step\n",
      "Epoch 58/200\n",
      "469/469 - 1s - loss: 4.0729e-07 - accuracy: 1.0000 - 1s/epoch - 2ms/step\n",
      "Epoch 59/200\n",
      "469/469 - 1s - loss: 3.1200e-07 - accuracy: 1.0000 - 1s/epoch - 2ms/step\n",
      "Epoch 60/200\n",
      "469/469 - 1s - loss: 2.4118e-07 - accuracy: 1.0000 - 1s/epoch - 2ms/step\n",
      "Epoch 61/200\n",
      "469/469 - 1s - loss: 1.8540e-07 - accuracy: 1.0000 - 1s/epoch - 2ms/step\n",
      "Epoch 62/200\n",
      "469/469 - 1s - loss: 1.4228e-07 - accuracy: 1.0000 - 1s/epoch - 2ms/step\n",
      "Epoch 63/200\n",
      "469/469 - 1s - loss: 1.1019e-07 - accuracy: 1.0000 - 1s/epoch - 2ms/step\n",
      "Epoch 64/200\n",
      "469/469 - 1s - loss: 8.6440e-08 - accuracy: 1.0000 - 1s/epoch - 2ms/step\n",
      "Epoch 65/200\n",
      "469/469 - 1s - loss: 6.8509e-08 - accuracy: 1.0000 - 1s/epoch - 2ms/step\n",
      "Epoch 66/200\n",
      "469/469 - 1s - loss: 5.3904e-08 - accuracy: 1.0000 - 1s/epoch - 2ms/step\n",
      "Epoch 67/200\n",
      "469/469 - 1s - loss: 4.3666e-08 - accuracy: 1.0000 - 1s/epoch - 2ms/step\n",
      "Epoch 68/200\n",
      "469/469 - 1s - loss: 3.4702e-08 - accuracy: 1.0000 - 1s/epoch - 2ms/step\n",
      "Epoch 69/200\n",
      "469/469 - 1s - loss: 2.8519e-08 - accuracy: 1.0000 - 1s/epoch - 2ms/step\n",
      "Epoch 70/200\n",
      "469/469 - 1s - loss: 2.3075e-08 - accuracy: 1.0000 - 1s/epoch - 2ms/step\n",
      "Epoch 71/200\n",
      "469/469 - 1s - loss: 1.8897e-08 - accuracy: 1.0000 - 1s/epoch - 2ms/step\n",
      "Epoch 72/200\n",
      "469/469 - 1s - loss: 1.5539e-08 - accuracy: 1.0000 - 1s/epoch - 2ms/step\n",
      "Epoch 73/200\n",
      "469/469 - 1s - loss: 1.2978e-08 - accuracy: 1.0000 - 1s/epoch - 2ms/step\n",
      "Epoch 74/200\n",
      "469/469 - 1s - loss: 1.0870e-08 - accuracy: 1.0000 - 1s/epoch - 2ms/step\n",
      "Epoch 75/200\n",
      "469/469 - 1s - loss: 9.1453e-09 - accuracy: 1.0000 - 1s/epoch - 2ms/step\n",
      "Epoch 76/200\n",
      "469/469 - 1s - loss: 7.7347e-09 - accuracy: 1.0000 - 1s/epoch - 2ms/step\n",
      "Epoch 77/200\n",
      "469/469 - 1s - loss: 6.6082e-09 - accuracy: 1.0000 - 1s/epoch - 2ms/step\n",
      "Epoch 78/200\n",
      "469/469 - 1s - loss: 5.6585e-09 - accuracy: 1.0000 - 1s/epoch - 2ms/step\n",
      "Epoch 79/200\n",
      "469/469 - 1s - loss: 4.8935e-09 - accuracy: 1.0000 - 1s/epoch - 2ms/step\n",
      "Epoch 80/200\n",
      "469/469 - 1s - loss: 4.2220e-09 - accuracy: 1.0000 - 1s/epoch - 2ms/step\n",
      "Epoch 81/200\n",
      "469/469 - 1s - loss: 3.5902e-09 - accuracy: 1.0000 - 1s/epoch - 2ms/step\n",
      "Epoch 82/200\n",
      "469/469 - 1s - loss: 3.2087e-09 - accuracy: 1.0000 - 1s/epoch - 2ms/step\n",
      "Epoch 83/200\n",
      "469/469 - 1s - loss: 2.8034e-09 - accuracy: 1.0000 - 1s/epoch - 2ms/step\n",
      "Epoch 84/200\n",
      "469/469 - 1s - loss: 2.4597e-09 - accuracy: 1.0000 - 1s/epoch - 2ms/step\n",
      "Epoch 85/200\n",
      "469/469 - 1s - loss: 2.2213e-09 - accuracy: 1.0000 - 1s/epoch - 2ms/step\n",
      "Epoch 86/200\n",
      "469/469 - 1s - loss: 1.9868e-09 - accuracy: 1.0000 - 1s/epoch - 2ms/step\n",
      "Epoch 87/200\n",
      "469/469 - 1s - loss: 1.7742e-09 - accuracy: 1.0000 - 1s/epoch - 2ms/step\n",
      "Epoch 88/200\n",
      "469/469 - 1s - loss: 1.6054e-09 - accuracy: 1.0000 - 1s/epoch - 2ms/step\n",
      "Epoch 89/200\n",
      "469/469 - 1s - loss: 1.4901e-09 - accuracy: 1.0000 - 1s/epoch - 2ms/step\n",
      "Epoch 90/200\n",
      "469/469 - 1s - loss: 1.3431e-09 - accuracy: 1.0000 - 1s/epoch - 2ms/step\n",
      "Epoch 91/200\n",
      "469/469 - 1s - loss: 1.2239e-09 - accuracy: 1.0000 - 1s/epoch - 2ms/step\n",
      "Epoch 92/200\n",
      "469/469 - 1s - loss: 1.1345e-09 - accuracy: 1.0000 - 1s/epoch - 2ms/step\n",
      "Epoch 93/200\n",
      "469/469 - 1s - loss: 1.0351e-09 - accuracy: 1.0000 - 1s/epoch - 2ms/step\n",
      "Epoch 94/200\n",
      "469/469 - 1s - loss: 9.4374e-10 - accuracy: 1.0000 - 1s/epoch - 2ms/step\n",
      "Epoch 95/200\n",
      "469/469 - 1s - loss: 8.6824e-10 - accuracy: 1.0000 - 1s/epoch - 2ms/step\n",
      "Epoch 96/200\n",
      "469/469 - 1s - loss: 8.0466e-10 - accuracy: 1.0000 - 1s/epoch - 2ms/step\n",
      "Epoch 97/200\n",
      "469/469 - 1s - loss: 7.4704e-10 - accuracy: 1.0000 - 1s/epoch - 2ms/step\n",
      "Epoch 98/200\n",
      "469/469 - 1s - loss: 6.9340e-10 - accuracy: 1.0000 - 1s/epoch - 2ms/step\n",
      "Epoch 99/200\n",
      "469/469 - 1s - loss: 6.5168e-10 - accuracy: 1.0000 - 1s/epoch - 2ms/step\n",
      "Epoch 100/200\n",
      "469/469 - 1s - loss: 6.2585e-10 - accuracy: 1.0000 - 1s/epoch - 2ms/step\n",
      "Epoch 101/200\n",
      "469/469 - 1s - loss: 6.0002e-10 - accuracy: 1.0000 - 1s/epoch - 2ms/step\n",
      "Epoch 102/200\n",
      "469/469 - 1s - loss: 5.3048e-10 - accuracy: 1.0000 - 1s/epoch - 2ms/step\n",
      "Epoch 103/200\n",
      "469/469 - 1s - loss: 5.1260e-10 - accuracy: 1.0000 - 1s/epoch - 2ms/step\n",
      "Epoch 104/200\n",
      "469/469 - 1s - loss: 4.8280e-10 - accuracy: 1.0000 - 1s/epoch - 2ms/step\n",
      "Epoch 105/200\n",
      "469/469 - 1s - loss: 4.6094e-10 - accuracy: 1.0000 - 1s/epoch - 2ms/step\n",
      "Epoch 106/200\n",
      "469/469 - 1s - loss: 4.4505e-10 - accuracy: 1.0000 - 1s/epoch - 2ms/step\n",
      "Epoch 107/200\n",
      "469/469 - 1s - loss: 4.0730e-10 - accuracy: 1.0000 - 1s/epoch - 2ms/step\n",
      "Epoch 108/200\n",
      "469/469 - 1s - loss: 3.9935e-10 - accuracy: 1.0000 - 1s/epoch - 2ms/step\n",
      "Epoch 109/200\n",
      "469/469 - 1s - loss: 3.7352e-10 - accuracy: 1.0000 - 1s/epoch - 2ms/step\n",
      "Epoch 110/200\n",
      "469/469 - 1s - loss: 3.8743e-10 - accuracy: 1.0000 - 1s/epoch - 2ms/step\n",
      "Epoch 111/200\n",
      "469/469 - 1s - loss: 3.6558e-10 - accuracy: 1.0000 - 1s/epoch - 2ms/step\n",
      "Epoch 112/200\n",
      "469/469 - 1s - loss: 3.3776e-10 - accuracy: 1.0000 - 1s/epoch - 2ms/step\n",
      "Epoch 113/200\n",
      "469/469 - 1s - loss: 3.2981e-10 - accuracy: 1.0000 - 1s/epoch - 2ms/step\n",
      "Epoch 114/200\n",
      "469/469 - 1s - loss: 3.2981e-10 - accuracy: 1.0000 - 1s/epoch - 2ms/step\n",
      "Epoch 115/200\n",
      "469/469 - 1s - loss: 3.1789e-10 - accuracy: 1.0000 - 1s/epoch - 2ms/step\n",
      "Epoch 116/200\n",
      "469/469 - 1s - loss: 2.8809e-10 - accuracy: 1.0000 - 1s/epoch - 2ms/step\n",
      "Epoch 117/200\n",
      "469/469 - 1s - loss: 2.9008e-10 - accuracy: 1.0000 - 1s/epoch - 2ms/step\n",
      "Epoch 118/200\n",
      "469/469 - 1s - loss: 2.9008e-10 - accuracy: 1.0000 - 1s/epoch - 2ms/step\n",
      "Epoch 119/200\n",
      "469/469 - 1s - loss: 2.8412e-10 - accuracy: 1.0000 - 1s/epoch - 2ms/step\n",
      "Epoch 120/200\n",
      "469/469 - 1s - loss: 2.8213e-10 - accuracy: 1.0000 - 1s/epoch - 2ms/step\n",
      "Epoch 121/200\n",
      "469/469 - 1s - loss: 2.7219e-10 - accuracy: 1.0000 - 1s/epoch - 2ms/step\n",
      "Epoch 122/200\n",
      "469/469 - 1s - loss: 2.8213e-10 - accuracy: 1.0000 - 1s/epoch - 2ms/step\n",
      "Epoch 123/200\n",
      "469/469 - 1s - loss: 2.5630e-10 - accuracy: 1.0000 - 1s/epoch - 2ms/step\n",
      "Epoch 124/200\n",
      "469/469 - 1s - loss: 2.5630e-10 - accuracy: 1.0000 - 1s/epoch - 2ms/step\n",
      "Epoch 125/200\n",
      "469/469 - 1s - loss: 2.5431e-10 - accuracy: 1.0000 - 1s/epoch - 2ms/step\n",
      "Epoch 126/200\n",
      "469/469 - 1s - loss: 2.3444e-10 - accuracy: 1.0000 - 1s/epoch - 2ms/step\n",
      "Epoch 127/200\n",
      "469/469 - 1s - loss: 2.4835e-10 - accuracy: 1.0000 - 1s/epoch - 2ms/step\n",
      "Epoch 128/200\n",
      "469/469 - 1s - loss: 2.3444e-10 - accuracy: 1.0000 - 1s/epoch - 2ms/step\n",
      "Epoch 129/200\n",
      "469/469 - 1s - loss: 2.4239e-10 - accuracy: 1.0000 - 1s/epoch - 2ms/step\n",
      "Epoch 130/200\n",
      "469/469 - 1s - loss: 2.3047e-10 - accuracy: 1.0000 - 1s/epoch - 2ms/step\n",
      "Epoch 131/200\n",
      "469/469 - 1s - loss: 2.1259e-10 - accuracy: 1.0000 - 1s/epoch - 2ms/step\n",
      "Epoch 132/200\n",
      "469/469 - 1s - loss: 2.2252e-10 - accuracy: 1.0000 - 1s/epoch - 2ms/step\n",
      "Epoch 133/200\n",
      "469/469 - 1s - loss: 2.3444e-10 - accuracy: 1.0000 - 1s/epoch - 2ms/step\n",
      "Epoch 134/200\n",
      "469/469 - 1s - loss: 2.1060e-10 - accuracy: 1.0000 - 1s/epoch - 2ms/step\n",
      "Epoch 135/200\n",
      "469/469 - 1s - loss: 2.2054e-10 - accuracy: 1.0000 - 1s/epoch - 2ms/step\n",
      "Epoch 136/200\n",
      "469/469 - 1s - loss: 2.2054e-10 - accuracy: 1.0000 - 1s/epoch - 2ms/step\n",
      "Epoch 137/200\n",
      "469/469 - 1s - loss: 2.0266e-10 - accuracy: 1.0000 - 1s/epoch - 2ms/step\n",
      "Epoch 138/200\n",
      "469/469 - 1s - loss: 2.0862e-10 - accuracy: 1.0000 - 1s/epoch - 2ms/step\n",
      "Epoch 139/200\n",
      "469/469 - 1s - loss: 2.0464e-10 - accuracy: 1.0000 - 1s/epoch - 2ms/step\n",
      "Epoch 140/200\n",
      "469/469 - 1s - loss: 2.0067e-10 - accuracy: 1.0000 - 1s/epoch - 2ms/step\n",
      "Epoch 141/200\n",
      "469/469 - 1s - loss: 2.0862e-10 - accuracy: 1.0000 - 1s/epoch - 2ms/step\n",
      "Epoch 142/200\n",
      "469/469 - 1s - loss: 2.0067e-10 - accuracy: 1.0000 - 1s/epoch - 2ms/step\n",
      "Epoch 143/200\n",
      "469/469 - 1s - loss: 1.9272e-10 - accuracy: 1.0000 - 1s/epoch - 2ms/step\n",
      "Epoch 144/200\n",
      "469/469 - 1s - loss: 2.0266e-10 - accuracy: 1.0000 - 1s/epoch - 2ms/step\n",
      "Epoch 145/200\n",
      "469/469 - 1s - loss: 2.0862e-10 - accuracy: 1.0000 - 1s/epoch - 2ms/step\n",
      "Epoch 146/200\n",
      "469/469 - 1s - loss: 2.1060e-10 - accuracy: 1.0000 - 1s/epoch - 2ms/step\n",
      "Epoch 147/200\n",
      "469/469 - 1s - loss: 1.8875e-10 - accuracy: 1.0000 - 1s/epoch - 2ms/step\n",
      "Epoch 148/200\n",
      "469/469 - 1s - loss: 1.8676e-10 - accuracy: 1.0000 - 1s/epoch - 2ms/step\n",
      "Epoch 149/200\n",
      "469/469 - 1s - loss: 1.9073e-10 - accuracy: 1.0000 - 1s/epoch - 2ms/step\n",
      "Epoch 150/200\n",
      "469/469 - 1s - loss: 2.0067e-10 - accuracy: 1.0000 - 1s/epoch - 2ms/step\n",
      "Epoch 151/200\n",
      "469/469 - 1s - loss: 1.7484e-10 - accuracy: 1.0000 - 1s/epoch - 2ms/step\n",
      "Epoch 152/200\n",
      "469/469 - 1s - loss: 2.0464e-10 - accuracy: 1.0000 - 1s/epoch - 2ms/step\n",
      "Epoch 153/200\n",
      "469/469 - 1s - loss: 1.7881e-10 - accuracy: 1.0000 - 1s/epoch - 2ms/step\n",
      "Epoch 154/200\n",
      "469/469 - 1s - loss: 1.6093e-10 - accuracy: 1.0000 - 1s/epoch - 2ms/step\n",
      "Epoch 155/200\n",
      "469/469 - 1s - loss: 2.0067e-10 - accuracy: 1.0000 - 1s/epoch - 2ms/step\n",
      "Epoch 156/200\n",
      "469/469 - 1s - loss: 1.9272e-10 - accuracy: 1.0000 - 1s/epoch - 2ms/step\n",
      "Epoch 157/200\n",
      "469/469 - 1s - loss: 1.8279e-10 - accuracy: 1.0000 - 1s/epoch - 2ms/step\n",
      "Epoch 158/200\n",
      "469/469 - 1s - loss: 1.9670e-10 - accuracy: 1.0000 - 1s/epoch - 2ms/step\n",
      "Epoch 159/200\n",
      "469/469 - 1s - loss: 1.9073e-10 - accuracy: 1.0000 - 1s/epoch - 2ms/step\n",
      "Epoch 160/200\n",
      "469/469 - 1s - loss: 1.8279e-10 - accuracy: 1.0000 - 1s/epoch - 2ms/step\n",
      "Epoch 161/200\n",
      "469/469 - 1s - loss: 1.9272e-10 - accuracy: 1.0000 - 1s/epoch - 2ms/step\n",
      "Epoch 162/200\n",
      "469/469 - 1s - loss: 1.8477e-10 - accuracy: 1.0000 - 1s/epoch - 2ms/step\n",
      "Epoch 163/200\n",
      "469/469 - 1s - loss: 1.8080e-10 - accuracy: 1.0000 - 1s/epoch - 2ms/step\n",
      "Epoch 164/200\n",
      "469/469 - 1s - loss: 1.9670e-10 - accuracy: 1.0000 - 1s/epoch - 2ms/step\n",
      "Epoch 165/200\n",
      "469/469 - 1s - loss: 1.8875e-10 - accuracy: 1.0000 - 1s/epoch - 2ms/step\n",
      "Epoch 166/200\n",
      "469/469 - 1s - loss: 1.8875e-10 - accuracy: 1.0000 - 1s/epoch - 2ms/step\n",
      "Epoch 167/200\n",
      "469/469 - 1s - loss: 1.9670e-10 - accuracy: 1.0000 - 1s/epoch - 2ms/step\n",
      "Epoch 168/200\n",
      "469/469 - 1s - loss: 1.7881e-10 - accuracy: 1.0000 - 1s/epoch - 2ms/step\n",
      "Epoch 169/200\n",
      "469/469 - 1s - loss: 1.9272e-10 - accuracy: 1.0000 - 1s/epoch - 2ms/step\n",
      "Epoch 170/200\n",
      "469/469 - 1s - loss: 1.8875e-10 - accuracy: 1.0000 - 1s/epoch - 2ms/step\n",
      "Epoch 171/200\n",
      "469/469 - 1s - loss: 1.8477e-10 - accuracy: 1.0000 - 1s/epoch - 2ms/step\n",
      "Epoch 172/200\n",
      "469/469 - 1s - loss: 1.9471e-10 - accuracy: 1.0000 - 1s/epoch - 2ms/step\n",
      "Epoch 173/200\n",
      "469/469 - 1s - loss: 1.9272e-10 - accuracy: 1.0000 - 1s/epoch - 2ms/step\n",
      "Epoch 174/200\n",
      "469/469 - 1s - loss: 1.7285e-10 - accuracy: 1.0000 - 1s/epoch - 2ms/step\n",
      "Epoch 175/200\n",
      "469/469 - 1s - loss: 1.9471e-10 - accuracy: 1.0000 - 1s/epoch - 2ms/step\n",
      "Epoch 176/200\n",
      "469/469 - 1s - loss: 2.0663e-10 - accuracy: 1.0000 - 1s/epoch - 2ms/step\n",
      "Epoch 177/200\n",
      "469/469 - 1s - loss: 1.8080e-10 - accuracy: 1.0000 - 1s/epoch - 2ms/step\n",
      "Epoch 178/200\n",
      "469/469 - 1s - loss: 2.0266e-10 - accuracy: 1.0000 - 1s/epoch - 2ms/step\n",
      "Epoch 179/200\n",
      "469/469 - 1s - loss: 2.0266e-10 - accuracy: 1.0000 - 1s/epoch - 2ms/step\n",
      "Epoch 180/200\n",
      "469/469 - 1s - loss: 1.9670e-10 - accuracy: 1.0000 - 1s/epoch - 2ms/step\n",
      "Epoch 181/200\n",
      "469/469 - 1s - loss: 2.0464e-10 - accuracy: 1.0000 - 1s/epoch - 2ms/step\n",
      "Epoch 182/200\n",
      "469/469 - 1s - loss: 1.8875e-10 - accuracy: 1.0000 - 1s/epoch - 2ms/step\n",
      "Epoch 183/200\n",
      "469/469 - 1s - loss: 2.2451e-10 - accuracy: 1.0000 - 1s/epoch - 2ms/step\n",
      "Epoch 184/200\n",
      "469/469 - 1s - loss: 1.9868e-10 - accuracy: 1.0000 - 1s/epoch - 2ms/step\n",
      "Epoch 185/200\n",
      "469/469 - 1s - loss: 2.1060e-10 - accuracy: 1.0000 - 1s/epoch - 2ms/step\n",
      "Epoch 186/200\n",
      "469/469 - 1s - loss: 2.1060e-10 - accuracy: 1.0000 - 1s/epoch - 2ms/step\n",
      "Epoch 187/200\n",
      "469/469 - 1s - loss: 2.1855e-10 - accuracy: 1.0000 - 1s/epoch - 2ms/step\n",
      "Epoch 188/200\n",
      "469/469 - 1s - loss: 2.1855e-10 - accuracy: 1.0000 - 1s/epoch - 2ms/step\n",
      "Epoch 189/200\n",
      "469/469 - 1s - loss: 2.0862e-10 - accuracy: 1.0000 - 1s/epoch - 2ms/step\n",
      "Epoch 190/200\n",
      "469/469 - 1s - loss: 2.1060e-10 - accuracy: 1.0000 - 1s/epoch - 2ms/step\n",
      "Epoch 191/200\n",
      "469/469 - 1s - loss: 2.1259e-10 - accuracy: 1.0000 - 1s/epoch - 2ms/step\n",
      "Epoch 192/200\n",
      "469/469 - 1s - loss: 2.1458e-10 - accuracy: 1.0000 - 1s/epoch - 2ms/step\n",
      "Epoch 193/200\n",
      "469/469 - 1s - loss: 2.1259e-10 - accuracy: 1.0000 - 1s/epoch - 2ms/step\n",
      "Epoch 194/200\n",
      "469/469 - 1s - loss: 2.1656e-10 - accuracy: 1.0000 - 1s/epoch - 3ms/step\n",
      "Epoch 195/200\n",
      "469/469 - 1s - loss: 2.1855e-10 - accuracy: 1.0000 - 1s/epoch - 2ms/step\n",
      "Epoch 196/200\n",
      "469/469 - 1s - loss: 2.2451e-10 - accuracy: 1.0000 - 1s/epoch - 2ms/step\n",
      "Epoch 197/200\n",
      "469/469 - 1s - loss: 2.0266e-10 - accuracy: 1.0000 - 1s/epoch - 2ms/step\n",
      "Epoch 198/200\n",
      "469/469 - 1s - loss: 2.3444e-10 - accuracy: 1.0000 - 1s/epoch - 2ms/step\n",
      "Epoch 199/200\n",
      "469/469 - 1s - loss: 2.2650e-10 - accuracy: 1.0000 - 1s/epoch - 2ms/step\n",
      "Epoch 200/200\n",
      "469/469 - 1s - loss: 2.1855e-10 - accuracy: 1.0000 - 1s/epoch - 2ms/step\n"
     ]
    },
    {
     "data": {
      "text/plain": [
       "<keras.callbacks.History at 0x24c0048f5b0>"
      ]
     },
     "execution_count": 7,
     "metadata": {},
     "output_type": "execute_result"
    }
   ],
   "source": [
    "model.fit(x_train, y_train, batch_size=128, epochs=200, verbose=2)"
   ]
  },
  {
   "cell_type": "code",
   "execution_count": 8,
   "metadata": {},
   "outputs": [
    {
     "name": "stdout",
     "output_type": "stream",
     "text": [
      "313/313 - 1s - loss: 0.1771 - accuracy: 0.9848 - 613ms/epoch - 2ms/step\n"
     ]
    },
    {
     "data": {
      "text/plain": [
       "[0.177083358168602, 0.9847999811172485]"
      ]
     },
     "execution_count": 8,
     "metadata": {},
     "output_type": "execute_result"
    }
   ],
   "source": [
    "model.evaluate(x_test, y_test, batch_size=32, verbose=2)"
   ]
  },
  {
   "attachments": {},
   "cell_type": "markdown",
   "metadata": {},
   "source": [
    "Second Method"
   ]
  },
  {
   "cell_type": "code",
   "execution_count": 9,
   "metadata": {},
   "outputs": [],
   "source": [
    "model = keras.Sequential()\n",
    "model.add(keras.Input(shape=(784)))\n",
    "model.add(layers.Dense(512, activation=\"relu\"))\n",
    "model.add(layers.Dense(256, activation=\"relu\", name=\"my_layer\"))\n",
    "model.add(layers.Dense(10))"
   ]
  },
  {
   "cell_type": "code",
   "execution_count": 10,
   "metadata": {},
   "outputs": [
    {
     "name": "stdout",
     "output_type": "stream",
     "text": [
      "Model: \"sequential_1\"\n",
      "_________________________________________________________________\n",
      " Layer (type)                Output Shape              Param #   \n",
      "=================================================================\n",
      " dense_3 (Dense)             (None, 512)               401920    \n",
      "                                                                 \n",
      " my_layer (Dense)            (None, 256)               131328    \n",
      "                                                                 \n",
      " dense_4 (Dense)             (None, 10)                2570      \n",
      "                                                                 \n",
      "=================================================================\n",
      "Total params: 535,818\n",
      "Trainable params: 535,818\n",
      "Non-trainable params: 0\n",
      "_________________________________________________________________\n"
     ]
    }
   ],
   "source": [
    "model.summary()"
   ]
  },
  {
   "cell_type": "markdown",
   "metadata": {},
   "source": [
    "Functional API"
   ]
  },
  {
   "cell_type": "code",
   "execution_count": 11,
   "metadata": {},
   "outputs": [],
   "source": [
    "inputs = keras.Input(shape=(784))\n",
    "x = layers.Dense(512, activation=\"relu\", name=\"first_layer\")(inputs)\n",
    "x = layers.Dense(256, activation=\"relu\", name=\"second_layer\")(x)\n",
    "outputs = layers.Dense(10, activation='softmax', name=\"third_layer\")(x)\n",
    "model = keras.Model(inputs= inputs, outputs=outputs)\n",
    "\n"
   ]
  },
  {
   "cell_type": "code",
   "execution_count": 12,
   "metadata": {},
   "outputs": [],
   "source": [
    "model.compile(\n",
    "    loss = keras.losses.SparseCategoricalCrossentropy(),\n",
    "    optimizer = keras.optimizers.Adam(learning_rate=0.001),\n",
    "    metrics=[\"accuracy\"],\n",
    ")"
   ]
  },
  {
   "cell_type": "code",
   "execution_count": 13,
   "metadata": {},
   "outputs": [
    {
     "name": "stdout",
     "output_type": "stream",
     "text": [
      "Epoch 1/5\n",
      "1875/1875 - 4s - loss: 0.1871 - accuracy: 0.9442 - 4s/epoch - 2ms/step\n",
      "Epoch 2/5\n",
      "1875/1875 - 4s - loss: 0.0816 - accuracy: 0.9747 - 4s/epoch - 2ms/step\n",
      "Epoch 3/5\n",
      "1875/1875 - 4s - loss: 0.0549 - accuracy: 0.9819 - 4s/epoch - 2ms/step\n",
      "Epoch 4/5\n",
      "1875/1875 - 4s - loss: 0.0422 - accuracy: 0.9868 - 4s/epoch - 2ms/step\n",
      "Epoch 5/5\n",
      "1875/1875 - 4s - loss: 0.0327 - accuracy: 0.9888 - 4s/epoch - 2ms/step\n"
     ]
    },
    {
     "data": {
      "text/plain": [
       "<keras.callbacks.History at 0x24c0a5045b0>"
      ]
     },
     "execution_count": 13,
     "metadata": {},
     "output_type": "execute_result"
    }
   ],
   "source": [
    "model.fit(x_train, y_train, batch_size=32, epochs=5, verbose=2)"
   ]
  },
  {
   "cell_type": "code",
   "execution_count": 14,
   "metadata": {},
   "outputs": [
    {
     "name": "stdout",
     "output_type": "stream",
     "text": [
      "313/313 - 1s - loss: 0.0766 - accuracy: 0.9791 - 635ms/epoch - 2ms/step\n"
     ]
    },
    {
     "data": {
      "text/plain": [
       "[0.07660259306430817, 0.9790999889373779]"
      ]
     },
     "execution_count": 14,
     "metadata": {},
     "output_type": "execute_result"
    }
   ],
   "source": [
    "model.evaluate(x_test, y_test, batch_size=32, verbose=2)"
   ]
  },
  {
   "cell_type": "code",
   "execution_count": 15,
   "metadata": {},
   "outputs": [
    {
     "name": "stdout",
     "output_type": "stream",
     "text": [
      "Model: \"model\"\n",
      "_________________________________________________________________\n",
      " Layer (type)                Output Shape              Param #   \n",
      "=================================================================\n",
      " input_2 (InputLayer)        [(None, 784)]             0         \n",
      "                                                                 \n",
      " first_layer (Dense)         (None, 512)               401920    \n",
      "                                                                 \n",
      " second_layer (Dense)        (None, 256)               131328    \n",
      "                                                                 \n",
      " third_layer (Dense)         (None, 10)                2570      \n",
      "                                                                 \n",
      "=================================================================\n",
      "Total params: 535,818\n",
      "Trainable params: 535,818\n",
      "Non-trainable params: 0\n",
      "_________________________________________________________________\n"
     ]
    }
   ],
   "source": [
    "model.summary()"
   ]
  },
  {
   "cell_type": "code",
   "execution_count": 17,
   "metadata": {},
   "outputs": [
    {
     "name": "stdout",
     "output_type": "stream",
     "text": [
      "1875/1875 [==============================] - 2s 884us/step\n",
      "(60000, 256)\n"
     ]
    }
   ],
   "source": [
    "model = keras.Model(inputs= model.inputs, outputs=[model.get_layer(\"second_layer\").output])\n",
    "feature = model.predict(x_train)\n",
    "print(feature.shape)\n"
   ]
  },
  {
   "cell_type": "code",
   "execution_count": null,
   "metadata": {},
   "outputs": [],
   "source": []
  },
  {
   "cell_type": "code",
   "execution_count": null,
   "metadata": {},
   "outputs": [],
   "source": []
  }
 ],
 "metadata": {
  "kernelspec": {
   "display_name": "tf",
   "language": "python",
   "name": "python3"
  },
  "language_info": {
   "codemirror_mode": {
    "name": "ipython",
    "version": 3
   },
   "file_extension": ".py",
   "mimetype": "text/x-python",
   "name": "python",
   "nbconvert_exporter": "python",
   "pygments_lexer": "ipython3",
   "version": "3.9.13 (main, Aug 25 2022, 23:51:50) [MSC v.1916 64 bit (AMD64)]"
  },
  "orig_nbformat": 4,
  "vscode": {
   "interpreter": {
    "hash": "74cb3f0fa9d33bfcf8189af548fbb183ee6c25feac19421c4a86f6e6cba68299"
   }
  }
 },
 "nbformat": 4,
 "nbformat_minor": 2
}
