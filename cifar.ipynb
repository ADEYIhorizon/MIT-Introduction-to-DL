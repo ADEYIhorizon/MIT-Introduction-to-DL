{
 "cells": [
  {
   "cell_type": "code",
   "execution_count": 1,
   "metadata": {},
   "outputs": [],
   "source": [
    "import tensorflow as tf\n",
    "from tensorflow.keras import datasets, layers, models, optimizers"
   ]
  },
  {
   "cell_type": "code",
   "execution_count": 2,
   "metadata": {},
   "outputs": [],
   "source": [
    "IMG_CHANNELS =  3\n",
    "IMG_ROWS = 32\n",
    "IMG_COLS = 32\n",
    "\n",
    "#constant\n",
    "BATCH_SIZE = 128\n",
    "EPOCHS = 20\n",
    "CLASSES = 10\n",
    "VERBOSE = 1\n",
    "VALIDATION_SPLIT = 0.2\n",
    "OPTIM   = tf.keras.optimizers.RMSprop()"
   ]
  },
  {
   "cell_type": "code",
   "execution_count": 3,
   "metadata": {},
   "outputs": [],
   "source": [
    "# define the convnet\n",
    "def build(input_shape, classes):\n",
    "    model =  models.Sequential()\n",
    "    model.add(layers.Convolution2D(32, (3,3), activation='relu', input_shape= input_shape))\n",
    "    model.add(layers.MaxPooling2D(pool_size=(2,2)))\n",
    "    model.add(layers.Dropout(0.25))\n",
    "\n",
    "    \n",
    "    model.add(layers.Flatten())\n",
    "    model.add(layers.Dense(512, activation='relu'))\n",
    "    model.add(layers.Dropout(0.5))\n",
    "    model.add(layers.Dense(classes, activation='softmax'))\n",
    "    return model"
   ]
  },
  {
   "cell_type": "code",
   "execution_count": 5,
   "metadata": {},
   "outputs": [],
   "source": [
    "# data: shuffled and split between train and test sets\n",
    "(X_train, y_train), (X_test, y_test) = datasets.cifar10.load_data()\n",
    "# normalize\n",
    "X_train, X_test = X_train / 255.0, X_test / 255.0\n",
    "# convert to categorical\n",
    "# convert class vectors to binary class matrices\n",
    "y_train = tf.keras.utils.to_categorical(y_train, CLASSES)\n",
    "y_test = tf.keras.utils.to_categorical(y_test, CLASSES)"
   ]
  },
  {
   "cell_type": "code",
   "execution_count": 6,
   "metadata": {},
   "outputs": [
    {
     "name": "stdout",
     "output_type": "stream",
     "text": [
      "Model: \"sequential\"\n",
      "_________________________________________________________________\n",
      " Layer (type)                Output Shape              Param #   \n",
      "=================================================================\n",
      " conv2d (Conv2D)             (None, 30, 30, 32)        896       \n",
      "                                                                 \n",
      " max_pooling2d (MaxPooling2D  (None, 15, 15, 32)       0         \n",
      " )                                                               \n",
      "                                                                 \n",
      " dropout (Dropout)           (None, 15, 15, 32)        0         \n",
      "                                                                 \n",
      " flatten (Flatten)           (None, 7200)              0         \n",
      "                                                                 \n",
      " dense (Dense)               (None, 512)               3686912   \n",
      "                                                                 \n",
      " dropout_1 (Dropout)         (None, 512)               0         \n",
      "                                                                 \n",
      " dense_1 (Dense)             (None, 10)                5130      \n",
      "                                                                 \n",
      "=================================================================\n",
      "Total params: 3,692,938\n",
      "Trainable params: 3,692,938\n",
      "Non-trainable params: 0\n",
      "_________________________________________________________________\n"
     ]
    }
   ],
   "source": [
    "model=build((IMG_ROWS, IMG_COLS, IMG_CHANNELS), CLASSES)\n",
    "model.summary()"
   ]
  },
  {
   "cell_type": "code",
   "execution_count": 7,
   "metadata": {},
   "outputs": [
    {
     "name": "stdout",
     "output_type": "stream",
     "text": [
      "Epoch 1/20\n",
      "313/313 [==============================] - 7s 14ms/step - loss: 1.7263 - accuracy: 0.3938 - val_loss: 1.5019 - val_accuracy: 0.4722\n",
      "Epoch 2/20\n",
      "313/313 [==============================] - 4s 13ms/step - loss: 1.3636 - accuracy: 0.5233 - val_loss: 1.2227 - val_accuracy: 0.5833\n",
      "Epoch 3/20\n",
      "313/313 [==============================] - 4s 13ms/step - loss: 1.2255 - accuracy: 0.5716 - val_loss: 1.1385 - val_accuracy: 0.6099\n",
      "Epoch 4/20\n",
      "313/313 [==============================] - 4s 12ms/step - loss: 1.1262 - accuracy: 0.6079 - val_loss: 1.1270 - val_accuracy: 0.6082\n",
      "Epoch 5/20\n",
      "313/313 [==============================] - 4s 13ms/step - loss: 1.0597 - accuracy: 0.6297 - val_loss: 1.2754 - val_accuracy: 0.5572\n",
      "Epoch 6/20\n",
      "313/313 [==============================] - 4s 13ms/step - loss: 0.9980 - accuracy: 0.6520 - val_loss: 1.0676 - val_accuracy: 0.6355\n",
      "Epoch 7/20\n",
      "313/313 [==============================] - 4s 13ms/step - loss: 0.9452 - accuracy: 0.6732 - val_loss: 1.0913 - val_accuracy: 0.6264\n",
      "Epoch 8/20\n",
      "313/313 [==============================] - 4s 13ms/step - loss: 0.8859 - accuracy: 0.6898 - val_loss: 1.0429 - val_accuracy: 0.6465\n",
      "Epoch 9/20\n",
      "313/313 [==============================] - 4s 14ms/step - loss: 0.8475 - accuracy: 0.7076 - val_loss: 1.0534 - val_accuracy: 0.6545\n",
      "Epoch 10/20\n",
      "313/313 [==============================] - 4s 13ms/step - loss: 0.8047 - accuracy: 0.7197 - val_loss: 1.0583 - val_accuracy: 0.6450\n",
      "Epoch 11/20\n",
      "313/313 [==============================] - 4s 13ms/step - loss: 0.7580 - accuracy: 0.7395 - val_loss: 1.0059 - val_accuracy: 0.6688\n",
      "Epoch 12/20\n",
      "313/313 [==============================] - 4s 13ms/step - loss: 0.7309 - accuracy: 0.7479 - val_loss: 0.9766 - val_accuracy: 0.6790\n",
      "Epoch 13/20\n",
      "313/313 [==============================] - 4s 12ms/step - loss: 0.6954 - accuracy: 0.7605 - val_loss: 1.0279 - val_accuracy: 0.6676\n",
      "Epoch 14/20\n",
      "313/313 [==============================] - 4s 12ms/step - loss: 0.6653 - accuracy: 0.7708 - val_loss: 1.0021 - val_accuracy: 0.6812\n",
      "Epoch 15/20\n",
      "313/313 [==============================] - 4s 12ms/step - loss: 0.6404 - accuracy: 0.7802 - val_loss: 1.1255 - val_accuracy: 0.6400\n",
      "Epoch 16/20\n",
      "313/313 [==============================] - 4s 12ms/step - loss: 0.6116 - accuracy: 0.7903 - val_loss: 0.9860 - val_accuracy: 0.6862\n",
      "Epoch 17/20\n",
      "313/313 [==============================] - 4s 13ms/step - loss: 0.5864 - accuracy: 0.8012 - val_loss: 1.0631 - val_accuracy: 0.6749\n",
      "Epoch 18/20\n",
      "313/313 [==============================] - 4s 13ms/step - loss: 0.5658 - accuracy: 0.8061 - val_loss: 1.0387 - val_accuracy: 0.6714\n",
      "Epoch 19/20\n",
      "313/313 [==============================] - 4s 13ms/step - loss: 0.5426 - accuracy: 0.8152 - val_loss: 1.0509 - val_accuracy: 0.6826\n",
      "Epoch 20/20\n",
      "313/313 [==============================] - 4s 13ms/step - loss: 0.5275 - accuracy: 0.8201 - val_loss: 1.0460 - val_accuracy: 0.6818\n",
      "79/79 [==============================] - 0s 5ms/step - loss: 1.0349 - accuracy: 0.6801\n",
      "\n",
      "Test score: 1.034915566444397\n",
      "Test accuracy: 0.6801000237464905\n"
     ]
    }
   ],
   "source": [
    "# use TensorBoard, princess Aurora!\n",
    "callbacks = [\n",
    "# Write TensorBoard logs to './logs' directory\n",
    "tf.keras.callbacks.TensorBoard(log_dir='./logs')\n",
    "]\n",
    "\n",
    "# train\n",
    "model.compile(loss='categorical_crossentropy', optimizer=OPTIM,\n",
    "metrics=['accuracy'])\n",
    "\n",
    "model.fit(X_train, y_train, batch_size=BATCH_SIZE, epochs=EPOCHS, validation_split=VALIDATION_SPLIT, verbose=VERBOSE, callbacks=callbacks)\n",
    "\n",
    "score = model.evaluate(X_test, y_test, batch_size=BATCH_SIZE, verbose=VERBOSE)\n",
    "print(\"\\nTest score:\", score[0])\n",
    "print('Test accuracy:', score[1])"
   ]
  },
  {
   "cell_type": "code",
   "execution_count": null,
   "metadata": {},
   "outputs": [],
   "source": []
  }
 ],
 "metadata": {
  "kernelspec": {
   "display_name": "tf",
   "language": "python",
   "name": "python3"
  },
  "language_info": {
   "codemirror_mode": {
    "name": "ipython",
    "version": 3
   },
   "file_extension": ".py",
   "mimetype": "text/x-python",
   "name": "python",
   "nbconvert_exporter": "python",
   "pygments_lexer": "ipython3",
   "version": "3.9.13"
  },
  "orig_nbformat": 4,
  "vscode": {
   "interpreter": {
    "hash": "74cb3f0fa9d33bfcf8189af548fbb183ee6c25feac19421c4a86f6e6cba68299"
   }
  }
 },
 "nbformat": 4,
 "nbformat_minor": 2
}
